{
 "cells": [
  {
   "cell_type": "code",
   "execution_count": 1,
   "id": "179bcec0",
   "metadata": {},
   "outputs": [
    {
     "name": "stderr",
     "output_type": "stream",
     "text": [
      "C:\\Users\\win10\\anaconda3\\lib\\site-packages\\pandas\\core\\arrays\\masked.py:60: UserWarning: Pandas requires version '1.3.6' or newer of 'bottleneck' (version '1.3.5' currently installed).\n",
      "  from pandas.core import (\n"
     ]
    }
   ],
   "source": [
    "import pandas as pd\n",
    "import numpy as np\n",
    "import matplotlib.pyplot as plt\n",
    "import seaborn as sns\n",
    "\n",
    "from sklearn.model_selection import train_test_split, GridSearchCV, RandomizedSearchCV\n",
    "from sklearn.linear_model import LinearRegression, Ridge, Lasso\n",
    "from sklearn.ensemble import RandomForestRegressor, GradientBoostingRegressor, StackingRegressor\n",
    "from sklearn.metrics import mean_absolute_error, mean_squared_error, r2_score "
   ]
  },
  {
   "cell_type": "markdown",
   "id": "c1a47a14",
   "metadata": {},
   "source": [
    "# Etapa 1: Carregamento dos dados e visualização prévia do dataset"
   ]
  },
  {
   "cell_type": "code",
   "execution_count": 2,
   "id": "cef400c3",
   "metadata": {},
   "outputs": [
    {
     "data": {
      "text/html": [
       "<div>\n",
       "<style scoped>\n",
       "    .dataframe tbody tr th:only-of-type {\n",
       "        vertical-align: middle;\n",
       "    }\n",
       "\n",
       "    .dataframe tbody tr th {\n",
       "        vertical-align: top;\n",
       "    }\n",
       "\n",
       "    .dataframe thead th {\n",
       "        text-align: right;\n",
       "    }\n",
       "</style>\n",
       "<table border=\"1\" class=\"dataframe\">\n",
       "  <thead>\n",
       "    <tr style=\"text-align: right;\">\n",
       "      <th></th>\n",
       "      <th>id</th>\n",
       "      <th>nome</th>\n",
       "      <th>host_id</th>\n",
       "      <th>host_name</th>\n",
       "      <th>bairro_group</th>\n",
       "      <th>bairro</th>\n",
       "      <th>latitude</th>\n",
       "      <th>longitude</th>\n",
       "      <th>room_type</th>\n",
       "      <th>price</th>\n",
       "      <th>minimo_noites</th>\n",
       "      <th>numero_de_reviews</th>\n",
       "      <th>ultima_review</th>\n",
       "      <th>reviews_por_mes</th>\n",
       "      <th>calculado_host_listings_count</th>\n",
       "      <th>disponibilidade_365</th>\n",
       "    </tr>\n",
       "  </thead>\n",
       "  <tbody>\n",
       "    <tr>\n",
       "      <th>0</th>\n",
       "      <td>2595</td>\n",
       "      <td>Skylit Midtown Castle</td>\n",
       "      <td>2845</td>\n",
       "      <td>Jennifer</td>\n",
       "      <td>Manhattan</td>\n",
       "      <td>Midtown</td>\n",
       "      <td>40.75362</td>\n",
       "      <td>-73.98377</td>\n",
       "      <td>Entire home/apt</td>\n",
       "      <td>225</td>\n",
       "      <td>1</td>\n",
       "      <td>45</td>\n",
       "      <td>2019-05-21</td>\n",
       "      <td>0.38</td>\n",
       "      <td>2</td>\n",
       "      <td>355</td>\n",
       "    </tr>\n",
       "    <tr>\n",
       "      <th>1</th>\n",
       "      <td>3647</td>\n",
       "      <td>THE VILLAGE OF HARLEM....NEW YORK !</td>\n",
       "      <td>4632</td>\n",
       "      <td>Elisabeth</td>\n",
       "      <td>Manhattan</td>\n",
       "      <td>Harlem</td>\n",
       "      <td>40.80902</td>\n",
       "      <td>-73.94190</td>\n",
       "      <td>Private room</td>\n",
       "      <td>150</td>\n",
       "      <td>3</td>\n",
       "      <td>0</td>\n",
       "      <td>NaN</td>\n",
       "      <td>NaN</td>\n",
       "      <td>1</td>\n",
       "      <td>365</td>\n",
       "    </tr>\n",
       "    <tr>\n",
       "      <th>2</th>\n",
       "      <td>3831</td>\n",
       "      <td>Cozy Entire Floor of Brownstone</td>\n",
       "      <td>4869</td>\n",
       "      <td>LisaRoxanne</td>\n",
       "      <td>Brooklyn</td>\n",
       "      <td>Clinton Hill</td>\n",
       "      <td>40.68514</td>\n",
       "      <td>-73.95976</td>\n",
       "      <td>Entire home/apt</td>\n",
       "      <td>89</td>\n",
       "      <td>1</td>\n",
       "      <td>270</td>\n",
       "      <td>2019-07-05</td>\n",
       "      <td>4.64</td>\n",
       "      <td>1</td>\n",
       "      <td>194</td>\n",
       "    </tr>\n",
       "    <tr>\n",
       "      <th>3</th>\n",
       "      <td>5022</td>\n",
       "      <td>Entire Apt: Spacious Studio/Loft by central park</td>\n",
       "      <td>7192</td>\n",
       "      <td>Laura</td>\n",
       "      <td>Manhattan</td>\n",
       "      <td>East Harlem</td>\n",
       "      <td>40.79851</td>\n",
       "      <td>-73.94399</td>\n",
       "      <td>Entire home/apt</td>\n",
       "      <td>80</td>\n",
       "      <td>10</td>\n",
       "      <td>9</td>\n",
       "      <td>2018-11-19</td>\n",
       "      <td>0.10</td>\n",
       "      <td>1</td>\n",
       "      <td>0</td>\n",
       "    </tr>\n",
       "    <tr>\n",
       "      <th>4</th>\n",
       "      <td>5099</td>\n",
       "      <td>Large Cozy 1 BR Apartment In Midtown East</td>\n",
       "      <td>7322</td>\n",
       "      <td>Chris</td>\n",
       "      <td>Manhattan</td>\n",
       "      <td>Murray Hill</td>\n",
       "      <td>40.74767</td>\n",
       "      <td>-73.97500</td>\n",
       "      <td>Entire home/apt</td>\n",
       "      <td>200</td>\n",
       "      <td>3</td>\n",
       "      <td>74</td>\n",
       "      <td>2019-06-22</td>\n",
       "      <td>0.59</td>\n",
       "      <td>1</td>\n",
       "      <td>129</td>\n",
       "    </tr>\n",
       "  </tbody>\n",
       "</table>\n",
       "</div>"
      ],
      "text/plain": [
       "     id                                              nome  host_id  \\\n",
       "0  2595                             Skylit Midtown Castle     2845   \n",
       "1  3647               THE VILLAGE OF HARLEM....NEW YORK !     4632   \n",
       "2  3831                   Cozy Entire Floor of Brownstone     4869   \n",
       "3  5022  Entire Apt: Spacious Studio/Loft by central park     7192   \n",
       "4  5099         Large Cozy 1 BR Apartment In Midtown East     7322   \n",
       "\n",
       "     host_name bairro_group        bairro  latitude  longitude  \\\n",
       "0     Jennifer    Manhattan       Midtown  40.75362  -73.98377   \n",
       "1    Elisabeth    Manhattan        Harlem  40.80902  -73.94190   \n",
       "2  LisaRoxanne     Brooklyn  Clinton Hill  40.68514  -73.95976   \n",
       "3        Laura    Manhattan   East Harlem  40.79851  -73.94399   \n",
       "4        Chris    Manhattan   Murray Hill  40.74767  -73.97500   \n",
       "\n",
       "         room_type  price  minimo_noites  numero_de_reviews ultima_review  \\\n",
       "0  Entire home/apt    225              1                 45    2019-05-21   \n",
       "1     Private room    150              3                  0           NaN   \n",
       "2  Entire home/apt     89              1                270    2019-07-05   \n",
       "3  Entire home/apt     80             10                  9    2018-11-19   \n",
       "4  Entire home/apt    200              3                 74    2019-06-22   \n",
       "\n",
       "   reviews_por_mes  calculado_host_listings_count  disponibilidade_365  \n",
       "0             0.38                              2                  355  \n",
       "1              NaN                              1                  365  \n",
       "2             4.64                              1                  194  \n",
       "3             0.10                              1                    0  \n",
       "4             0.59                              1                  129  "
      ]
     },
     "execution_count": 2,
     "metadata": {},
     "output_type": "execute_result"
    }
   ],
   "source": [
    "# Carregando os dados do arquivo csv para o objeto \"df\"\n",
    "df = pd.read_csv(r'C:\\Users\\win10\\Desktop\\LIGHTHOUSE_Indicium-DesafioTecnico\\teste_indicium_precificacao.csv')\n",
    "\n",
    "# Visualizando as primeiras linhas do dataset (objeto \"df\")\n",
    "df.head()"
   ]
  },
  {
   "cell_type": "markdown",
   "id": "d005e671",
   "metadata": {},
   "source": [
    "# Etapa 2: Análise Exploratória dos Dados (EDA)\n",
    "\n",
    "   - Obter informações básicas do dataset e das variáveis;\n",
    "   - Verificar inconsistências nos dados (valores ausentes, valores inesperados, outliers, etc);\n",
    "   - Entender as principais características entre as variáveis (estatísticas descritivas, análises das distribuições,...);\n",
    "   - Apresentar hipóteses de negócio relacionadas a essas variáveis."
   ]
  },
  {
   "cell_type": "code",
   "execution_count": 3,
   "id": "8aafafc4",
   "metadata": {
    "scrolled": true
   },
   "outputs": [
    {
     "name": "stdout",
     "output_type": "stream",
     "text": [
      "<class 'pandas.core.frame.DataFrame'>\n",
      "RangeIndex: 48894 entries, 0 to 48893\n",
      "Data columns (total 16 columns):\n",
      " #   Column                         Non-Null Count  Dtype  \n",
      "---  ------                         --------------  -----  \n",
      " 0   id                             48894 non-null  int64  \n",
      " 1   nome                           48878 non-null  object \n",
      " 2   host_id                        48894 non-null  int64  \n",
      " 3   host_name                      48873 non-null  object \n",
      " 4   bairro_group                   48894 non-null  object \n",
      " 5   bairro                         48894 non-null  object \n",
      " 6   latitude                       48894 non-null  float64\n",
      " 7   longitude                      48894 non-null  float64\n",
      " 8   room_type                      48894 non-null  object \n",
      " 9   price                          48894 non-null  int64  \n",
      " 10  minimo_noites                  48894 non-null  int64  \n",
      " 11  numero_de_reviews              48894 non-null  int64  \n",
      " 12  ultima_review                  38842 non-null  object \n",
      " 13  reviews_por_mes                38842 non-null  float64\n",
      " 14  calculado_host_listings_count  48894 non-null  int64  \n",
      " 15  disponibilidade_365            48894 non-null  int64  \n",
      "dtypes: float64(3), int64(7), object(6)\n",
      "memory usage: 6.0+ MB\n"
     ]
    }
   ],
   "source": [
    "# Obtendo informações básicas do dataset\n",
    "df.info()"
   ]
  },
  {
   "cell_type": "markdown",
   "id": "efa4f427",
   "metadata": {},
   "source": [
    "#### Conforme observado acima, este dataset contempla 48.894 registros/linhas com 16 variáveis/colunas."
   ]
  },
  {
   "cell_type": "code",
   "execution_count": 4,
   "id": "0ef116b1",
   "metadata": {},
   "outputs": [
    {
     "data": {
      "text/html": [
       "<div>\n",
       "<style scoped>\n",
       "    .dataframe tbody tr th:only-of-type {\n",
       "        vertical-align: middle;\n",
       "    }\n",
       "\n",
       "    .dataframe tbody tr th {\n",
       "        vertical-align: top;\n",
       "    }\n",
       "\n",
       "    .dataframe thead th {\n",
       "        text-align: right;\n",
       "    }\n",
       "</style>\n",
       "<table border=\"1\" class=\"dataframe\">\n",
       "  <thead>\n",
       "    <tr style=\"text-align: right;\">\n",
       "      <th></th>\n",
       "      <th>id</th>\n",
       "      <th>host_id</th>\n",
       "      <th>latitude</th>\n",
       "      <th>longitude</th>\n",
       "      <th>price</th>\n",
       "      <th>minimo_noites</th>\n",
       "      <th>numero_de_reviews</th>\n",
       "      <th>reviews_por_mes</th>\n",
       "      <th>calculado_host_listings_count</th>\n",
       "      <th>disponibilidade_365</th>\n",
       "    </tr>\n",
       "  </thead>\n",
       "  <tbody>\n",
       "    <tr>\n",
       "      <th>count</th>\n",
       "      <td>4.889400e+04</td>\n",
       "      <td>4.889400e+04</td>\n",
       "      <td>48894.000000</td>\n",
       "      <td>48894.000000</td>\n",
       "      <td>48894.000000</td>\n",
       "      <td>48894.000000</td>\n",
       "      <td>48894.000000</td>\n",
       "      <td>38842.000000</td>\n",
       "      <td>48894.000000</td>\n",
       "      <td>48894.000000</td>\n",
       "    </tr>\n",
       "    <tr>\n",
       "      <th>mean</th>\n",
       "      <td>1.901753e+07</td>\n",
       "      <td>6.762139e+07</td>\n",
       "      <td>40.728951</td>\n",
       "      <td>-73.952169</td>\n",
       "      <td>152.720763</td>\n",
       "      <td>7.030085</td>\n",
       "      <td>23.274758</td>\n",
       "      <td>1.373251</td>\n",
       "      <td>7.144005</td>\n",
       "      <td>112.776169</td>\n",
       "    </tr>\n",
       "    <tr>\n",
       "      <th>std</th>\n",
       "      <td>1.098288e+07</td>\n",
       "      <td>7.861118e+07</td>\n",
       "      <td>0.054529</td>\n",
       "      <td>0.046157</td>\n",
       "      <td>240.156625</td>\n",
       "      <td>20.510741</td>\n",
       "      <td>44.550991</td>\n",
       "      <td>1.680453</td>\n",
       "      <td>32.952855</td>\n",
       "      <td>131.618692</td>\n",
       "    </tr>\n",
       "    <tr>\n",
       "      <th>min</th>\n",
       "      <td>2.595000e+03</td>\n",
       "      <td>2.438000e+03</td>\n",
       "      <td>40.499790</td>\n",
       "      <td>-74.244420</td>\n",
       "      <td>0.000000</td>\n",
       "      <td>1.000000</td>\n",
       "      <td>0.000000</td>\n",
       "      <td>0.010000</td>\n",
       "      <td>1.000000</td>\n",
       "      <td>0.000000</td>\n",
       "    </tr>\n",
       "    <tr>\n",
       "      <th>25%</th>\n",
       "      <td>9.472371e+06</td>\n",
       "      <td>7.822737e+06</td>\n",
       "      <td>40.690100</td>\n",
       "      <td>-73.983070</td>\n",
       "      <td>69.000000</td>\n",
       "      <td>1.000000</td>\n",
       "      <td>1.000000</td>\n",
       "      <td>0.190000</td>\n",
       "      <td>1.000000</td>\n",
       "      <td>0.000000</td>\n",
       "    </tr>\n",
       "    <tr>\n",
       "      <th>50%</th>\n",
       "      <td>1.967743e+07</td>\n",
       "      <td>3.079553e+07</td>\n",
       "      <td>40.723075</td>\n",
       "      <td>-73.955680</td>\n",
       "      <td>106.000000</td>\n",
       "      <td>3.000000</td>\n",
       "      <td>5.000000</td>\n",
       "      <td>0.720000</td>\n",
       "      <td>1.000000</td>\n",
       "      <td>45.000000</td>\n",
       "    </tr>\n",
       "    <tr>\n",
       "      <th>75%</th>\n",
       "      <td>2.915225e+07</td>\n",
       "      <td>1.074344e+08</td>\n",
       "      <td>40.763117</td>\n",
       "      <td>-73.936273</td>\n",
       "      <td>175.000000</td>\n",
       "      <td>5.000000</td>\n",
       "      <td>24.000000</td>\n",
       "      <td>2.020000</td>\n",
       "      <td>2.000000</td>\n",
       "      <td>227.000000</td>\n",
       "    </tr>\n",
       "    <tr>\n",
       "      <th>max</th>\n",
       "      <td>3.648724e+07</td>\n",
       "      <td>2.743213e+08</td>\n",
       "      <td>40.913060</td>\n",
       "      <td>-73.712990</td>\n",
       "      <td>10000.000000</td>\n",
       "      <td>1250.000000</td>\n",
       "      <td>629.000000</td>\n",
       "      <td>58.500000</td>\n",
       "      <td>327.000000</td>\n",
       "      <td>365.000000</td>\n",
       "    </tr>\n",
       "  </tbody>\n",
       "</table>\n",
       "</div>"
      ],
      "text/plain": [
       "                 id       host_id      latitude     longitude         price  \\\n",
       "count  4.889400e+04  4.889400e+04  48894.000000  48894.000000  48894.000000   \n",
       "mean   1.901753e+07  6.762139e+07     40.728951    -73.952169    152.720763   \n",
       "std    1.098288e+07  7.861118e+07      0.054529      0.046157    240.156625   \n",
       "min    2.595000e+03  2.438000e+03     40.499790    -74.244420      0.000000   \n",
       "25%    9.472371e+06  7.822737e+06     40.690100    -73.983070     69.000000   \n",
       "50%    1.967743e+07  3.079553e+07     40.723075    -73.955680    106.000000   \n",
       "75%    2.915225e+07  1.074344e+08     40.763117    -73.936273    175.000000   \n",
       "max    3.648724e+07  2.743213e+08     40.913060    -73.712990  10000.000000   \n",
       "\n",
       "       minimo_noites  numero_de_reviews  reviews_por_mes  \\\n",
       "count   48894.000000       48894.000000     38842.000000   \n",
       "mean        7.030085          23.274758         1.373251   \n",
       "std        20.510741          44.550991         1.680453   \n",
       "min         1.000000           0.000000         0.010000   \n",
       "25%         1.000000           1.000000         0.190000   \n",
       "50%         3.000000           5.000000         0.720000   \n",
       "75%         5.000000          24.000000         2.020000   \n",
       "max      1250.000000         629.000000        58.500000   \n",
       "\n",
       "       calculado_host_listings_count  disponibilidade_365  \n",
       "count                   48894.000000         48894.000000  \n",
       "mean                        7.144005           112.776169  \n",
       "std                        32.952855           131.618692  \n",
       "min                         1.000000             0.000000  \n",
       "25%                         1.000000             0.000000  \n",
       "50%                         1.000000            45.000000  \n",
       "75%                         2.000000           227.000000  \n",
       "max                       327.000000           365.000000  "
      ]
     },
     "execution_count": 4,
     "metadata": {},
     "output_type": "execute_result"
    }
   ],
   "source": [
    "# Obtendo informações das estatísticas descritivas das variáveis numéricas\n",
    "df.describe()"
   ]
  },
  {
   "cell_type": "markdown",
   "id": "1bc23c66",
   "metadata": {},
   "source": [
    "## Insights:\n",
    "\n",
    "#### Variáveis \"latitude\" e \"longitude\":\n",
    "- Analisando o range do 1º ao 3º quartis (25%-75%) dessas duas variáveis ([40.69, 40.76] e [-73.98,-73.94], respectivamente), nota-se que provavelmente os anúncios se concentram em uma área geográfica específica de Nova York (por exemplo, em alguns bairros próximos à região central da cidade), gerando as seguintes hipóteses:\n",
    "    * A localização das estadias pode influenciar significativamente o preço dos aluguéis anunciados;\n",
    "    * Anúncios de locações próximas à região central da cidade podem ter mais comentários/avaliações devido à maior movimentação de turistas.\n",
    "\n",
    "#### Variável \"price\":\n",
    "- Com uma média (U\\\\$ 152.72) bem maior que a mediana (U\\\\$ 106.00), tudo indica que os dados nessa variável seguem uma distribuição assimétrica em torno da média, gerando as seguintes hipóteses de negócio:\n",
    "    * Propriedades de luxo ou localizações privilegiadas podem estar inflacionando a média dos preços;\n",
    "    * Existe um segmento minoritário de clientes dispostos a pagar por preços muito altos;\n",
    "    * Preços muito baixos (próximos de zero) podem indicar erros de cadastro, anúncios inativos ou promoções.\n",
    "\n",
    "#### Variável \"minimo_noites\":\n",
    "- Observando a mediana (mínimo de 3 noites que o usuário deve reservar), percebe-se que a maioria dos anúncios tendem a aceitar estadias de períodos curtos, porém existem casos de anúncios dispondo de períodos muito maiores, gerando as seguintes hipóteses de negócio:\n",
    "    * Anúncios com o mínimo de 1 a 2 noites a reservar podem atrair mais turistas, principalmente se as estadias se localizarem em áreas urbanas movimentadas;\n",
    "    * Anúncios com longo período de estadia (por exemplo, acima de 365 dias), podem se referir especificamente como contratos de alguel. \n",
    "\n",
    "#### Variáveis \"numero_de_reviews\" e \"reviews_por_mes\":\n",
    "- Pelas medianas dessas variáveis (5 e 0.72, respectivamente), infere-que a maioria dos anúncios têm poucas avaliações/comentários, enquanto outros poucos anúncios concentram números maiores de reviews, gerando a seguinte hipótese de negócio: \n",
    "    * Anúncios que detém mais avaliações/comentários tendem a ser mais confiáveis e ter uma maior taxa de ocupação pelos clientes (em decorrência, por exemplo, de sua localização privilegiada ou preços economicamente viáveis).\n",
    "    \n",
    "#### Variável \"disponibilidade_365\":\n",
    "- Ao se comparar a mediana (45 dias de disponibilidade do anúncio) em relação à média (112,78 dias disponíveis), nota-se um certo nível de assimetria dos dados à direita, o que tende a indicar que a maioria dos anúncios não está disponível durante o ano todo (por motivo, por exemplo, que as locações são de locadores não profissionais ou que estas são usadas também para fins pessoais), gerando as seguintes hipóteses de negócio:\n",
    "    * Locações menos disponíveis ao longo do ano podem ter um valor de preço maior devido à menor oferta;\n",
    "    * Anúncios com maior tempo de disponibilidade podem ser decorrentes de locadores profissionais."
   ]
  },
  {
   "cell_type": "code",
   "execution_count": 5,
   "id": "ae8eb93d",
   "metadata": {},
   "outputs": [
    {
     "data": {
      "text/plain": [
       "id                                   0\n",
       "nome                                16\n",
       "host_id                              0\n",
       "host_name                           21\n",
       "bairro_group                         0\n",
       "bairro                               0\n",
       "latitude                             0\n",
       "longitude                            0\n",
       "room_type                            0\n",
       "price                                0\n",
       "minimo_noites                        0\n",
       "numero_de_reviews                    0\n",
       "ultima_review                    10052\n",
       "reviews_por_mes                  10052\n",
       "calculado_host_listings_count        0\n",
       "disponibilidade_365                  0\n",
       "dtype: int64"
      ]
     },
     "execution_count": 5,
     "metadata": {},
     "output_type": "execute_result"
    }
   ],
   "source": [
    "# Verificando a quantidade de valores ausentes em cada variável\n",
    "df.isnull().sum()"
   ]
  },
  {
   "cell_type": "markdown",
   "id": "1a2bc064",
   "metadata": {},
   "source": [
    "## Insights:\n",
    "\n",
    "#### Percentual de valores ausentes nos dados para cada variável:\n",
    "    - \"nome\": 0.03% (16/48894);\n",
    "    - \"host_name\": 0.04% (21/48894);\n",
    "    - \"ultima_review\": 20.56% (10052/48894);\n",
    "    - \"reviews_por_mes\": 20.56% (10052/48894).\n",
    "    \n",
    "    * Ações a serem feitas no pré-processamentos dos dados: estabelecer estratégia de tratamento dos valores ausentes adequada para cada variável."
   ]
  },
  {
   "cell_type": "code",
   "execution_count": 6,
   "id": "0c001c0c",
   "metadata": {},
   "outputs": [
    {
     "data": {
      "image/png": "[encoded data removed]",
      "text/plain": [
       "<Figure size 800x300 with 1 Axes>"
      ]
     },
     "metadata": {},
     "output_type": "display_data"
    }
   ],
   "source": [
    "# Verificando a distribuição dos dados da variável target \"price\"\n",
    "\n",
    "# Configurando o estilo do gráfico/histograma a ser gerado\n",
    "plt.style.use('ggplot')\n",
    "plt.figure(figsize = (8,3))\n",
    "\n",
    "# Plotando o histograma\n",
    "sns.histplot(df['price'], bins = 100, kde = True, color = 'blue')\n",
    "\n",
    "plt.title('Distribuição dos dados (Preço dos Imóveis)', fontsize = 16)\n",
    "plt.xlabel('Preço dos Imóveis [U$]')\n",
    "plt.ylabel('Frequência')\n",
    "\n",
    "plt.show()"
   ]
  },
  {
   "cell_type": "markdown",
   "id": "7b3d57f9",
   "metadata": {},
   "source": [
    "## Insights:\n",
    "\n",
    "#### Assimetria dos dados à direita:\n",
    "- A grande maioria dos dados está concentrada na range de preços U\\\\$ 0 - 500;\n",
    "- Existem preços muito altos (o que gera uma cauda longa à direita), evidenciando a presença de outliers nos dados.\n",
    "    * Ações a serem feitas no pré-processamentos dos dados: verificar o impacto desses outliers e, se necessário, estabelecer algum tipo de transformação ou limitar um valor máximo, de modo a evitar eventuais distorções ao modelo.\n",
    "\n",
    "#### Possível inconsistência nos dados:\n",
    "- Nota-se que há valores inconsistentes na variável \"price\" com valores de U$ 0, o que pode ser decorrente de: (i) Erro no cadastro da informação; (ii) Estratégia promocional; e/u (iii) Falha no registro da base de dados.\n",
    "    * Ações a serem feitas no pré-processamentos dos dados: verificar o impacto desses registros no dataset, e provalmente removê-los pois os mesmos não refletem o objetivo do modelo (previsão do preço)."
   ]
  },
  {
   "cell_type": "markdown",
   "id": "61ef72cf",
   "metadata": {},
   "source": [
    "# Etapa 3: Pré-Processamento (limpeza e preparação) dos Dados\n",
    "\n",
    "   - Tratar registros com valores ausentes nas variáveis preditoras \"nome\", \"host_name\", \"ultima_review\" e \"reviews_por_mes\";\n",
    "   - Tratar registros com valor 0 na variável target \"price\";\n",
    "   - Tratar registros de outliers na variável target \"price\"."
   ]
  },
  {
   "cell_type": "code",
   "execution_count": 7,
   "id": "cfbd7cd2",
   "metadata": {},
   "outputs": [
    {
     "name": "stdout",
     "output_type": "stream",
     "text": [
      "Quantidade de registros no dataset: 48894\n",
      "Quantidade de registros com valores de \"price\" igual a 0: 11\n"
     ]
    }
   ],
   "source": [
    "# Contando a quantidade de registros com valor 0 na variável target \"price\"\n",
    "count_price_zero = df[df['price'] == 0].shape[0]\n",
    "\n",
    "print(f'Quantidade de registros no dataset: {df.shape[0]}')\n",
    "print(f'Quantidade de registros com valores de \"price\" igual a 0: {count_price_zero}')"
   ]
  },
  {
   "cell_type": "code",
   "execution_count": 8,
   "id": "240ff1d4",
   "metadata": {},
   "outputs": [
    {
     "name": "stdout",
     "output_type": "stream",
     "text": [
      "Quantidade de registros no dataset após o pré-processamento: 48883\n",
      "Quantidade de registros com valores de \"price\" igual a 0 após o pré-processamento: 0\n"
     ]
    }
   ],
   "source": [
    "# Removendo registros com valor 0 na variável target \"price\"\n",
    "df = df[df['price'] != 0]\n",
    "\n",
    "count_price_zero = df[df['price'] == 0].shape[0]\n",
    "\n",
    "print(f'Quantidade de registros no dataset após o pré-processamento: {df.shape[0]}')\n",
    "print(f'Quantidade de registros com valores de \"price\" igual a 0 após o pré-processamento: {count_price_zero}')"
   ]
  },
  {
   "cell_type": "markdown",
   "id": "ea7980e8",
   "metadata": {},
   "source": [
    "## Ação:\n",
    "\n",
    "#### Valores 0 na variável target \"price\":\n",
    "- Conforme visto acima, há 11 registros (0,02% dos dados) com valor 0 na variável \"price\", o que provavelmente são erros, podendo ser considerados como irrelevantes para o modelo de precificação. Portanto, esses dados estão sendo removidos do dataset para se ter uma melhor modelagem posterior."
   ]
  },
  {
   "cell_type": "code",
   "execution_count": 9,
   "id": "f91b6baa",
   "metadata": {},
   "outputs": [
    {
     "name": "stdout",
     "output_type": "stream",
     "text": [
      "[10000, 10000, 10000, 9999, 9999, 9999, 8500, 8000, 7703, 7500]\n"
     ]
    },
    {
     "data": {
      "image/png": "[encoded data removed]",
      "text/plain": [
       "<Figure size 1000x400 with 1 Axes>"
      ]
     },
     "metadata": {},
     "output_type": "display_data"
    }
   ],
   "source": [
    "# Verificando brevemente os principais outliers na variável target \"price\"\n",
    "precos_altos = df['price'].sort_values(ascending = False).head(10)\n",
    "\n",
    "print(precos_altos.tolist())\n",
    "\n",
    "# Visualizando o cenário da variável target \"price\" com os outliers\n",
    "plt.figure(figsize=(10, 4))\n",
    "sns.boxplot(x=df['price'])\n",
    "plt.title('Boxplot da variável \"price\" (com outliers)')\n",
    "plt.show()\n"
   ]
  },
  {
   "cell_type": "markdown",
   "id": "fd79223a",
   "metadata": {},
   "source": [
    "## Ação:\n",
    "\n",
    "#### Outliers na variável target \"price\":\n",
    "- Conforme visto acima, o top 10 dos outliers na variável \"price\" estão num range de U\\\\$ 7500-10000, sendo valores bem altos quando comparados com a mediana (U\\\\$ 106.00). Diante deste cenário, está sendo decidido adotar uma abordagem de excluir os outliers com base no percentil 99, visto que a presença desses outliers pode prejudicar o desempenho do modelo preditivo posteriormente. "
   ]
  },
  {
   "cell_type": "code",
   "execution_count": 10,
   "id": "b2e71b82",
   "metadata": {},
   "outputs": [
    {
     "data": {
      "image/png": "[encoded data removed]",
      "text/plain": [
       "<Figure size 1000x400 with 1 Axes>"
      ]
     },
     "metadata": {},
     "output_type": "display_data"
    }
   ],
   "source": [
    "# Definindo o limite superior da variável \"price\" com base no Percentil 99\n",
    "percentil_99 = df['price'].quantile(0.99)\n",
    "\n",
    "# Eliminando os outliers de \"price\" do modelo\n",
    "df_2 = df[df['price'] <= percentil_99]\n",
    "\n",
    "# Visualizando o cenário da variável target \"price\" com os outliers\n",
    "plt.figure(figsize=(10, 4))\n",
    "sns.boxplot(x=df_2['price'])\n",
    "plt.title('Boxplot da variável \"price\" (sem outliers)')\n",
    "plt.show()"
   ]
  },
  {
   "cell_type": "markdown",
   "id": "16927280",
   "metadata": {},
   "source": [
    "## Tratamento dos dados ausentes:"
   ]
  },
  {
   "cell_type": "code",
   "execution_count": 11,
   "id": "e34b4aee",
   "metadata": {},
   "outputs": [
    {
     "data": {
      "text/plain": [
       "id                                  0\n",
       "nome                               16\n",
       "host_id                             0\n",
       "host_name                          21\n",
       "bairro_group                        0\n",
       "bairro                              0\n",
       "latitude                            0\n",
       "longitude                           0\n",
       "room_type                           0\n",
       "price                               0\n",
       "minimo_noites                       0\n",
       "numero_de_reviews                   0\n",
       "ultima_review                    9827\n",
       "reviews_por_mes                  9827\n",
       "calculado_host_listings_count       0\n",
       "disponibilidade_365                 0\n",
       "dtype: int64"
      ]
     },
     "execution_count": 11,
     "metadata": {},
     "output_type": "execute_result"
    }
   ],
   "source": [
    "# Verificando novamente a quantidade de valores ausentes em cada variável\n",
    "df_2.isnull().sum()"
   ]
  },
  {
   "cell_type": "markdown",
   "id": "44e617dc",
   "metadata": {},
   "source": [
    "#### Tratando valores ausentes na variável \"nome\":\n",
    "Conforme se sabe, são apenas 16 registros de valores ausentes nessa variável (quantidade bem inferior ao total de registros no dataset), de modo que está sendo decidido denominá-los como \"desconhecido\" para mantê-los no dataset e, consequentemente, manter a consistência no modelo."
   ]
  },
  {
   "cell_type": "code",
   "execution_count": 12,
   "id": "197ae6b7",
   "metadata": {},
   "outputs": [
    {
     "data": {
      "text/html": [
       "<div>\n",
       "<style scoped>\n",
       "    .dataframe tbody tr th:only-of-type {\n",
       "        vertical-align: middle;\n",
       "    }\n",
       "\n",
       "    .dataframe tbody tr th {\n",
       "        vertical-align: top;\n",
       "    }\n",
       "\n",
       "    .dataframe thead th {\n",
       "        text-align: right;\n",
       "    }\n",
       "</style>\n",
       "<table border=\"1\" class=\"dataframe\">\n",
       "  <thead>\n",
       "    <tr style=\"text-align: right;\">\n",
       "      <th></th>\n",
       "      <th>id</th>\n",
       "      <th>nome</th>\n",
       "      <th>host_id</th>\n",
       "      <th>host_name</th>\n",
       "      <th>bairro_group</th>\n",
       "      <th>bairro</th>\n",
       "      <th>latitude</th>\n",
       "      <th>longitude</th>\n",
       "      <th>room_type</th>\n",
       "      <th>price</th>\n",
       "      <th>minimo_noites</th>\n",
       "      <th>numero_de_reviews</th>\n",
       "      <th>ultima_review</th>\n",
       "      <th>reviews_por_mes</th>\n",
       "      <th>calculado_host_listings_count</th>\n",
       "      <th>disponibilidade_365</th>\n",
       "    </tr>\n",
       "  </thead>\n",
       "  <tbody>\n",
       "    <tr>\n",
       "      <th>2853</th>\n",
       "      <td>1615764</td>\n",
       "      <td>NaN</td>\n",
       "      <td>6676776</td>\n",
       "      <td>Peter</td>\n",
       "      <td>Manhattan</td>\n",
       "      <td>Battery Park City</td>\n",
       "      <td>40.71239</td>\n",
       "      <td>-74.01620</td>\n",
       "      <td>Entire home/apt</td>\n",
       "      <td>400</td>\n",
       "      <td>1000</td>\n",
       "      <td>0</td>\n",
       "      <td>NaN</td>\n",
       "      <td>NaN</td>\n",
       "      <td>1</td>\n",
       "      <td>362</td>\n",
       "    </tr>\n",
       "    <tr>\n",
       "      <th>3702</th>\n",
       "      <td>2232600</td>\n",
       "      <td>NaN</td>\n",
       "      <td>11395220</td>\n",
       "      <td>Anna</td>\n",
       "      <td>Manhattan</td>\n",
       "      <td>East Village</td>\n",
       "      <td>40.73215</td>\n",
       "      <td>-73.98821</td>\n",
       "      <td>Entire home/apt</td>\n",
       "      <td>200</td>\n",
       "      <td>1</td>\n",
       "      <td>28</td>\n",
       "      <td>2015-06-08</td>\n",
       "      <td>0.45</td>\n",
       "      <td>1</td>\n",
       "      <td>341</td>\n",
       "    </tr>\n",
       "    <tr>\n",
       "      <th>5774</th>\n",
       "      <td>4209595</td>\n",
       "      <td>NaN</td>\n",
       "      <td>20700823</td>\n",
       "      <td>Jesse</td>\n",
       "      <td>Manhattan</td>\n",
       "      <td>Greenwich Village</td>\n",
       "      <td>40.73473</td>\n",
       "      <td>-73.99244</td>\n",
       "      <td>Entire home/apt</td>\n",
       "      <td>225</td>\n",
       "      <td>1</td>\n",
       "      <td>1</td>\n",
       "      <td>2015-01-01</td>\n",
       "      <td>0.02</td>\n",
       "      <td>1</td>\n",
       "      <td>0</td>\n",
       "    </tr>\n",
       "    <tr>\n",
       "      <th>5974</th>\n",
       "      <td>4370230</td>\n",
       "      <td>NaN</td>\n",
       "      <td>22686810</td>\n",
       "      <td>Michaël</td>\n",
       "      <td>Manhattan</td>\n",
       "      <td>Nolita</td>\n",
       "      <td>40.72046</td>\n",
       "      <td>-73.99550</td>\n",
       "      <td>Entire home/apt</td>\n",
       "      <td>215</td>\n",
       "      <td>7</td>\n",
       "      <td>5</td>\n",
       "      <td>2016-01-02</td>\n",
       "      <td>0.09</td>\n",
       "      <td>1</td>\n",
       "      <td>0</td>\n",
       "    </tr>\n",
       "    <tr>\n",
       "      <th>6268</th>\n",
       "      <td>4581788</td>\n",
       "      <td>NaN</td>\n",
       "      <td>21600904</td>\n",
       "      <td>Lucie</td>\n",
       "      <td>Brooklyn</td>\n",
       "      <td>Williamsburg</td>\n",
       "      <td>40.71370</td>\n",
       "      <td>-73.94378</td>\n",
       "      <td>Private room</td>\n",
       "      <td>150</td>\n",
       "      <td>1</td>\n",
       "      <td>0</td>\n",
       "      <td>NaN</td>\n",
       "      <td>NaN</td>\n",
       "      <td>1</td>\n",
       "      <td>0</td>\n",
       "    </tr>\n",
       "  </tbody>\n",
       "</table>\n",
       "</div>"
      ],
      "text/plain": [
       "           id nome   host_id host_name bairro_group             bairro  \\\n",
       "2853  1615764  NaN   6676776     Peter    Manhattan  Battery Park City   \n",
       "3702  2232600  NaN  11395220      Anna    Manhattan       East Village   \n",
       "5774  4209595  NaN  20700823     Jesse    Manhattan  Greenwich Village   \n",
       "5974  4370230  NaN  22686810   Michaël    Manhattan             Nolita   \n",
       "6268  4581788  NaN  21600904     Lucie     Brooklyn       Williamsburg   \n",
       "\n",
       "      latitude  longitude        room_type  price  minimo_noites  \\\n",
       "2853  40.71239  -74.01620  Entire home/apt    400           1000   \n",
       "3702  40.73215  -73.98821  Entire home/apt    200              1   \n",
       "5774  40.73473  -73.99244  Entire home/apt    225              1   \n",
       "5974  40.72046  -73.99550  Entire home/apt    215              7   \n",
       "6268  40.71370  -73.94378     Private room    150              1   \n",
       "\n",
       "      numero_de_reviews ultima_review  reviews_por_mes  \\\n",
       "2853                  0           NaN              NaN   \n",
       "3702                 28    2015-06-08             0.45   \n",
       "5774                  1    2015-01-01             0.02   \n",
       "5974                  5    2016-01-02             0.09   \n",
       "6268                  0           NaN              NaN   \n",
       "\n",
       "      calculado_host_listings_count  disponibilidade_365  \n",
       "2853                              1                  362  \n",
       "3702                              1                  341  \n",
       "5774                              1                    0  \n",
       "5974                              1                    0  \n",
       "6268                              1                    0  "
      ]
     },
     "execution_count": 12,
     "metadata": {},
     "output_type": "execute_result"
    }
   ],
   "source": [
    "# Visualizando alguns dados ausentes\n",
    "df_2[df_2['nome'].isnull()].head()"
   ]
  },
  {
   "cell_type": "code",
   "execution_count": 13,
   "id": "009d0f4b",
   "metadata": {},
   "outputs": [
    {
     "name": "stderr",
     "output_type": "stream",
     "text": [
      "C:\\Users\\win10\\AppData\\Local\\Temp\\ipykernel_4924\\3052710264.py:2: FutureWarning: A value is trying to be set on a copy of a DataFrame or Series through chained assignment using an inplace method.\n",
      "The behavior will change in pandas 3.0. This inplace method will never work because the intermediate object on which we are setting values always behaves as a copy.\n",
      "\n",
      "For example, when doing 'df[col].method(value, inplace=True)', try using 'df.method({col: value}, inplace=True)' or df[col] = df[col].method(value) instead, to perform the operation inplace on the original object.\n",
      "\n",
      "\n",
      "  df_2['nome'].fillna('desconhecido', inplace = True)\n",
      "C:\\Users\\win10\\AppData\\Local\\Temp\\ipykernel_4924\\3052710264.py:2: SettingWithCopyWarning: \n",
      "A value is trying to be set on a copy of a slice from a DataFrame\n",
      "\n",
      "See the caveats in the documentation: https://pandas.pydata.org/pandas-docs/stable/user_guide/indexing.html#returning-a-view-versus-a-copy\n",
      "  df_2['nome'].fillna('desconhecido', inplace = True)\n"
     ]
    }
   ],
   "source": [
    "# Preenchendo os valores ausentes da variável \"nome\" como 'desconhecido'\n",
    "df_2['nome'].fillna('desconhecido', inplace = True)"
   ]
  },
  {
   "cell_type": "markdown",
   "id": "7140622c",
   "metadata": {},
   "source": [
    "#### Tratando valores ausentes na variável \"host_name\":\n",
    "Conforme se sabe, são apenas 21 registros de valores ausentes nessa variável (quantidade bem inferior ao total de registros no dataset), de modo que está sendo decidido denominá-los como \"desconhecido\" para mantê-los no dataset e, consequentemente, manter a consistência no modelo."
   ]
  },
  {
   "cell_type": "code",
   "execution_count": 14,
   "id": "f3da61d7",
   "metadata": {},
   "outputs": [
    {
     "data": {
      "text/html": [
       "<div>\n",
       "<style scoped>\n",
       "    .dataframe tbody tr th:only-of-type {\n",
       "        vertical-align: middle;\n",
       "    }\n",
       "\n",
       "    .dataframe tbody tr th {\n",
       "        vertical-align: top;\n",
       "    }\n",
       "\n",
       "    .dataframe thead th {\n",
       "        text-align: right;\n",
       "    }\n",
       "</style>\n",
       "<table border=\"1\" class=\"dataframe\">\n",
       "  <thead>\n",
       "    <tr style=\"text-align: right;\">\n",
       "      <th></th>\n",
       "      <th>id</th>\n",
       "      <th>nome</th>\n",
       "      <th>host_id</th>\n",
       "      <th>host_name</th>\n",
       "      <th>bairro_group</th>\n",
       "      <th>bairro</th>\n",
       "      <th>latitude</th>\n",
       "      <th>longitude</th>\n",
       "      <th>room_type</th>\n",
       "      <th>price</th>\n",
       "      <th>minimo_noites</th>\n",
       "      <th>numero_de_reviews</th>\n",
       "      <th>ultima_review</th>\n",
       "      <th>reviews_por_mes</th>\n",
       "      <th>calculado_host_listings_count</th>\n",
       "      <th>disponibilidade_365</th>\n",
       "    </tr>\n",
       "  </thead>\n",
       "  <tbody>\n",
       "    <tr>\n",
       "      <th>359</th>\n",
       "      <td>100184</td>\n",
       "      <td>Bienvenue</td>\n",
       "      <td>526653</td>\n",
       "      <td>NaN</td>\n",
       "      <td>Queens</td>\n",
       "      <td>Queens Village</td>\n",
       "      <td>40.72413</td>\n",
       "      <td>-73.76133</td>\n",
       "      <td>Private room</td>\n",
       "      <td>50</td>\n",
       "      <td>1</td>\n",
       "      <td>43</td>\n",
       "      <td>2019-07-08</td>\n",
       "      <td>0.45</td>\n",
       "      <td>1</td>\n",
       "      <td>88</td>\n",
       "    </tr>\n",
       "    <tr>\n",
       "      <th>2699</th>\n",
       "      <td>1449546</td>\n",
       "      <td>Cozy Studio in Flatbush</td>\n",
       "      <td>7779204</td>\n",
       "      <td>NaN</td>\n",
       "      <td>Brooklyn</td>\n",
       "      <td>Flatbush</td>\n",
       "      <td>40.64965</td>\n",
       "      <td>-73.96154</td>\n",
       "      <td>Entire home/apt</td>\n",
       "      <td>100</td>\n",
       "      <td>30</td>\n",
       "      <td>49</td>\n",
       "      <td>2017-01-02</td>\n",
       "      <td>0.69</td>\n",
       "      <td>1</td>\n",
       "      <td>342</td>\n",
       "    </tr>\n",
       "    <tr>\n",
       "      <th>5744</th>\n",
       "      <td>4183989</td>\n",
       "      <td>SPRING in the City!! Zen-Style Tranquil Bedroom</td>\n",
       "      <td>919218</td>\n",
       "      <td>NaN</td>\n",
       "      <td>Manhattan</td>\n",
       "      <td>Harlem</td>\n",
       "      <td>40.80606</td>\n",
       "      <td>-73.95061</td>\n",
       "      <td>Private room</td>\n",
       "      <td>86</td>\n",
       "      <td>3</td>\n",
       "      <td>34</td>\n",
       "      <td>2019-05-23</td>\n",
       "      <td>1.00</td>\n",
       "      <td>1</td>\n",
       "      <td>359</td>\n",
       "    </tr>\n",
       "    <tr>\n",
       "      <th>6074</th>\n",
       "      <td>4446862</td>\n",
       "      <td>Charming Room in Prospect Heights!</td>\n",
       "      <td>23077718</td>\n",
       "      <td>NaN</td>\n",
       "      <td>Brooklyn</td>\n",
       "      <td>Crown Heights</td>\n",
       "      <td>40.67512</td>\n",
       "      <td>-73.96146</td>\n",
       "      <td>Private room</td>\n",
       "      <td>50</td>\n",
       "      <td>1</td>\n",
       "      <td>0</td>\n",
       "      <td>NaN</td>\n",
       "      <td>NaN</td>\n",
       "      <td>1</td>\n",
       "      <td>0</td>\n",
       "    </tr>\n",
       "    <tr>\n",
       "      <th>6581</th>\n",
       "      <td>4763327</td>\n",
       "      <td>Luxurious, best location, spa inc'l</td>\n",
       "      <td>24576978</td>\n",
       "      <td>NaN</td>\n",
       "      <td>Brooklyn</td>\n",
       "      <td>Greenpoint</td>\n",
       "      <td>40.72035</td>\n",
       "      <td>-73.95355</td>\n",
       "      <td>Entire home/apt</td>\n",
       "      <td>195</td>\n",
       "      <td>1</td>\n",
       "      <td>1</td>\n",
       "      <td>2015-10-20</td>\n",
       "      <td>0.02</td>\n",
       "      <td>1</td>\n",
       "      <td>0</td>\n",
       "    </tr>\n",
       "  </tbody>\n",
       "</table>\n",
       "</div>"
      ],
      "text/plain": [
       "           id                                             nome   host_id  \\\n",
       "359    100184                                        Bienvenue    526653   \n",
       "2699  1449546                          Cozy Studio in Flatbush   7779204   \n",
       "5744  4183989  SPRING in the City!! Zen-Style Tranquil Bedroom    919218   \n",
       "6074  4446862               Charming Room in Prospect Heights!  23077718   \n",
       "6581  4763327              Luxurious, best location, spa inc'l  24576978   \n",
       "\n",
       "     host_name bairro_group          bairro  latitude  longitude  \\\n",
       "359        NaN       Queens  Queens Village  40.72413  -73.76133   \n",
       "2699       NaN     Brooklyn        Flatbush  40.64965  -73.96154   \n",
       "5744       NaN    Manhattan          Harlem  40.80606  -73.95061   \n",
       "6074       NaN     Brooklyn   Crown Heights  40.67512  -73.96146   \n",
       "6581       NaN     Brooklyn      Greenpoint  40.72035  -73.95355   \n",
       "\n",
       "            room_type  price  minimo_noites  numero_de_reviews ultima_review  \\\n",
       "359      Private room     50              1                 43    2019-07-08   \n",
       "2699  Entire home/apt    100             30                 49    2017-01-02   \n",
       "5744     Private room     86              3                 34    2019-05-23   \n",
       "6074     Private room     50              1                  0           NaN   \n",
       "6581  Entire home/apt    195              1                  1    2015-10-20   \n",
       "\n",
       "      reviews_por_mes  calculado_host_listings_count  disponibilidade_365  \n",
       "359              0.45                              1                   88  \n",
       "2699             0.69                              1                  342  \n",
       "5744             1.00                              1                  359  \n",
       "6074              NaN                              1                    0  \n",
       "6581             0.02                              1                    0  "
      ]
     },
     "execution_count": 14,
     "metadata": {},
     "output_type": "execute_result"
    }
   ],
   "source": [
    "# Visualizando alguns dados ausentes\n",
    "df_2[df_2['host_name'].isnull()].head()"
   ]
  },
  {
   "cell_type": "code",
   "execution_count": 15,
   "id": "480b063a",
   "metadata": {},
   "outputs": [
    {
     "name": "stderr",
     "output_type": "stream",
     "text": [
      "C:\\Users\\win10\\AppData\\Local\\Temp\\ipykernel_4924\\1634914774.py:2: FutureWarning: A value is trying to be set on a copy of a DataFrame or Series through chained assignment using an inplace method.\n",
      "The behavior will change in pandas 3.0. This inplace method will never work because the intermediate object on which we are setting values always behaves as a copy.\n",
      "\n",
      "For example, when doing 'df[col].method(value, inplace=True)', try using 'df.method({col: value}, inplace=True)' or df[col] = df[col].method(value) instead, to perform the operation inplace on the original object.\n",
      "\n",
      "\n",
      "  df_2['host_name'].fillna('desconhecido', inplace = True)\n",
      "C:\\Users\\win10\\AppData\\Local\\Temp\\ipykernel_4924\\1634914774.py:2: SettingWithCopyWarning: \n",
      "A value is trying to be set on a copy of a slice from a DataFrame\n",
      "\n",
      "See the caveats in the documentation: https://pandas.pydata.org/pandas-docs/stable/user_guide/indexing.html#returning-a-view-versus-a-copy\n",
      "  df_2['host_name'].fillna('desconhecido', inplace = True)\n"
     ]
    }
   ],
   "source": [
    "# Preenchendo os valores ausentes da variável \"nome\" como 'desconhecido'\n",
    "df_2['host_name'].fillna('desconhecido', inplace = True)"
   ]
  },
  {
   "cell_type": "markdown",
   "id": "9a2168b8",
   "metadata": {},
   "source": [
    "#### Tratando valores ausentes na variável \"ultima_review\":\n",
    "Conforme abaixo, nota-se uma correspondência na variável \"numero_de_reviews\" com valores iguais a 0, o que logicamente faz bastante sentido já que se nunca teve reviews, então não há uma última review. Desse modo, está sendo decidido criar uma data fictícia (1900-01-01) para se referir a imóveis sem avaliações, de modo a manter esse grande quantitivo de dados no modelo."
   ]
  },
  {
   "cell_type": "code",
   "execution_count": 16,
   "id": "6c588bd3",
   "metadata": {},
   "outputs": [
    {
     "data": {
      "text/html": [
       "<div>\n",
       "<style scoped>\n",
       "    .dataframe tbody tr th:only-of-type {\n",
       "        vertical-align: middle;\n",
       "    }\n",
       "\n",
       "    .dataframe tbody tr th {\n",
       "        vertical-align: top;\n",
       "    }\n",
       "\n",
       "    .dataframe thead th {\n",
       "        text-align: right;\n",
       "    }\n",
       "</style>\n",
       "<table border=\"1\" class=\"dataframe\">\n",
       "  <thead>\n",
       "    <tr style=\"text-align: right;\">\n",
       "      <th></th>\n",
       "      <th>id</th>\n",
       "      <th>nome</th>\n",
       "      <th>host_id</th>\n",
       "      <th>host_name</th>\n",
       "      <th>bairro_group</th>\n",
       "      <th>bairro</th>\n",
       "      <th>latitude</th>\n",
       "      <th>longitude</th>\n",
       "      <th>room_type</th>\n",
       "      <th>price</th>\n",
       "      <th>minimo_noites</th>\n",
       "      <th>numero_de_reviews</th>\n",
       "      <th>ultima_review</th>\n",
       "      <th>reviews_por_mes</th>\n",
       "      <th>calculado_host_listings_count</th>\n",
       "      <th>disponibilidade_365</th>\n",
       "    </tr>\n",
       "  </thead>\n",
       "  <tbody>\n",
       "    <tr>\n",
       "      <th>1</th>\n",
       "      <td>3647</td>\n",
       "      <td>THE VILLAGE OF HARLEM....NEW YORK !</td>\n",
       "      <td>4632</td>\n",
       "      <td>Elisabeth</td>\n",
       "      <td>Manhattan</td>\n",
       "      <td>Harlem</td>\n",
       "      <td>40.80902</td>\n",
       "      <td>-73.94190</td>\n",
       "      <td>Private room</td>\n",
       "      <td>150</td>\n",
       "      <td>3</td>\n",
       "      <td>0</td>\n",
       "      <td>NaN</td>\n",
       "      <td>NaN</td>\n",
       "      <td>1</td>\n",
       "      <td>365</td>\n",
       "    </tr>\n",
       "    <tr>\n",
       "      <th>18</th>\n",
       "      <td>7750</td>\n",
       "      <td>Huge 2 BR Upper East  Cental Park</td>\n",
       "      <td>17985</td>\n",
       "      <td>Sing</td>\n",
       "      <td>Manhattan</td>\n",
       "      <td>East Harlem</td>\n",
       "      <td>40.79685</td>\n",
       "      <td>-73.94872</td>\n",
       "      <td>Entire home/apt</td>\n",
       "      <td>190</td>\n",
       "      <td>7</td>\n",
       "      <td>0</td>\n",
       "      <td>NaN</td>\n",
       "      <td>NaN</td>\n",
       "      <td>2</td>\n",
       "      <td>249</td>\n",
       "    </tr>\n",
       "    <tr>\n",
       "      <th>25</th>\n",
       "      <td>8700</td>\n",
       "      <td>Magnifique Suite au N de Manhattan - vue Cloitres</td>\n",
       "      <td>26394</td>\n",
       "      <td>Claude &amp; Sophie</td>\n",
       "      <td>Manhattan</td>\n",
       "      <td>Inwood</td>\n",
       "      <td>40.86754</td>\n",
       "      <td>-73.92639</td>\n",
       "      <td>Private room</td>\n",
       "      <td>80</td>\n",
       "      <td>4</td>\n",
       "      <td>0</td>\n",
       "      <td>NaN</td>\n",
       "      <td>NaN</td>\n",
       "      <td>1</td>\n",
       "      <td>0</td>\n",
       "    </tr>\n",
       "    <tr>\n",
       "      <th>35</th>\n",
       "      <td>11452</td>\n",
       "      <td>Clean and Quiet in Brooklyn</td>\n",
       "      <td>7355</td>\n",
       "      <td>Vt</td>\n",
       "      <td>Brooklyn</td>\n",
       "      <td>Bedford-Stuyvesant</td>\n",
       "      <td>40.68876</td>\n",
       "      <td>-73.94312</td>\n",
       "      <td>Private room</td>\n",
       "      <td>35</td>\n",
       "      <td>60</td>\n",
       "      <td>0</td>\n",
       "      <td>NaN</td>\n",
       "      <td>NaN</td>\n",
       "      <td>1</td>\n",
       "      <td>365</td>\n",
       "    </tr>\n",
       "    <tr>\n",
       "      <th>37</th>\n",
       "      <td>11943</td>\n",
       "      <td>Country space in the city</td>\n",
       "      <td>45445</td>\n",
       "      <td>Harriet</td>\n",
       "      <td>Brooklyn</td>\n",
       "      <td>Flatbush</td>\n",
       "      <td>40.63702</td>\n",
       "      <td>-73.96327</td>\n",
       "      <td>Private room</td>\n",
       "      <td>150</td>\n",
       "      <td>1</td>\n",
       "      <td>0</td>\n",
       "      <td>NaN</td>\n",
       "      <td>NaN</td>\n",
       "      <td>1</td>\n",
       "      <td>365</td>\n",
       "    </tr>\n",
       "  </tbody>\n",
       "</table>\n",
       "</div>"
      ],
      "text/plain": [
       "       id                                               nome  host_id  \\\n",
       "1    3647                THE VILLAGE OF HARLEM....NEW YORK !     4632   \n",
       "18   7750                  Huge 2 BR Upper East  Cental Park    17985   \n",
       "25   8700  Magnifique Suite au N de Manhattan - vue Cloitres    26394   \n",
       "35  11452                        Clean and Quiet in Brooklyn     7355   \n",
       "37  11943                          Country space in the city    45445   \n",
       "\n",
       "          host_name bairro_group              bairro  latitude  longitude  \\\n",
       "1         Elisabeth    Manhattan              Harlem  40.80902  -73.94190   \n",
       "18             Sing    Manhattan         East Harlem  40.79685  -73.94872   \n",
       "25  Claude & Sophie    Manhattan              Inwood  40.86754  -73.92639   \n",
       "35               Vt     Brooklyn  Bedford-Stuyvesant  40.68876  -73.94312   \n",
       "37          Harriet     Brooklyn            Flatbush  40.63702  -73.96327   \n",
       "\n",
       "          room_type  price  minimo_noites  numero_de_reviews ultima_review  \\\n",
       "1      Private room    150              3                  0           NaN   \n",
       "18  Entire home/apt    190              7                  0           NaN   \n",
       "25     Private room     80              4                  0           NaN   \n",
       "35     Private room     35             60                  0           NaN   \n",
       "37     Private room    150              1                  0           NaN   \n",
       "\n",
       "    reviews_por_mes  calculado_host_listings_count  disponibilidade_365  \n",
       "1               NaN                              1                  365  \n",
       "18              NaN                              2                  249  \n",
       "25              NaN                              1                    0  \n",
       "35              NaN                              1                  365  \n",
       "37              NaN                              1                  365  "
      ]
     },
     "execution_count": 16,
     "metadata": {},
     "output_type": "execute_result"
    }
   ],
   "source": [
    "# Visualizando alguns dados ausentes\n",
    "df_2[df_2['ultima_review'].isnull()].head()"
   ]
  },
  {
   "cell_type": "code",
   "execution_count": 17,
   "id": "8bc9b8cf",
   "metadata": {},
   "outputs": [
    {
     "data": {
      "text/plain": [
       "0"
      ]
     },
     "execution_count": 17,
     "metadata": {},
     "output_type": "execute_result"
    }
   ],
   "source": [
    "# Verificando a correspondência entre os valores ausentes em \"ultima_review\" e os valores 0 em \"numero_de_reviews\"\n",
    "df_2[df_2['ultima_review'].isnull()]['numero_de_reviews'].sum()"
   ]
  },
  {
   "cell_type": "code",
   "execution_count": 18,
   "id": "cf563a92",
   "metadata": {},
   "outputs": [
    {
     "name": "stderr",
     "output_type": "stream",
     "text": [
      "C:\\Users\\win10\\AppData\\Local\\Temp\\ipykernel_4924\\3756167126.py:2: FutureWarning: A value is trying to be set on a copy of a DataFrame or Series through chained assignment using an inplace method.\n",
      "The behavior will change in pandas 3.0. This inplace method will never work because the intermediate object on which we are setting values always behaves as a copy.\n",
      "\n",
      "For example, when doing 'df[col].method(value, inplace=True)', try using 'df.method({col: value}, inplace=True)' or df[col] = df[col].method(value) instead, to perform the operation inplace on the original object.\n",
      "\n",
      "\n",
      "  df_2['ultima_review'].fillna('1900-01-01', inplace = True)\n",
      "C:\\Users\\win10\\AppData\\Local\\Temp\\ipykernel_4924\\3756167126.py:2: SettingWithCopyWarning: \n",
      "A value is trying to be set on a copy of a slice from a DataFrame\n",
      "\n",
      "See the caveats in the documentation: https://pandas.pydata.org/pandas-docs/stable/user_guide/indexing.html#returning-a-view-versus-a-copy\n",
      "  df_2['ultima_review'].fillna('1900-01-01', inplace = True)\n"
     ]
    }
   ],
   "source": [
    "# Preenchendo os valores ausentes da variável \"ultima_review\" com a data fictícia '1900-01-01'\n",
    "df_2['ultima_review'].fillna('1900-01-01', inplace = True)"
   ]
  },
  {
   "cell_type": "markdown",
   "id": "3ae3854b",
   "metadata": {},
   "source": [
    "#### Tratando valores ausentes na variável \"reviews_por_mes\":\n",
    "Conforme abaixo, nota-se também uma correspondência na variável \"numero_de_reviews\" com valores iguais a 0, o que conclui-se que o número de avaliações por mês também deveria ser 0. Desse modo, está sendo decidido atribuir o valor 0 para os valores ausentes dessa variável \"reviews_por_mes\"."
   ]
  },
  {
   "cell_type": "code",
   "execution_count": 19,
   "id": "d460dff9",
   "metadata": {},
   "outputs": [
    {
     "data": {
      "text/html": [
       "<div>\n",
       "<style scoped>\n",
       "    .dataframe tbody tr th:only-of-type {\n",
       "        vertical-align: middle;\n",
       "    }\n",
       "\n",
       "    .dataframe tbody tr th {\n",
       "        vertical-align: top;\n",
       "    }\n",
       "\n",
       "    .dataframe thead th {\n",
       "        text-align: right;\n",
       "    }\n",
       "</style>\n",
       "<table border=\"1\" class=\"dataframe\">\n",
       "  <thead>\n",
       "    <tr style=\"text-align: right;\">\n",
       "      <th></th>\n",
       "      <th>id</th>\n",
       "      <th>nome</th>\n",
       "      <th>host_id</th>\n",
       "      <th>host_name</th>\n",
       "      <th>bairro_group</th>\n",
       "      <th>bairro</th>\n",
       "      <th>latitude</th>\n",
       "      <th>longitude</th>\n",
       "      <th>room_type</th>\n",
       "      <th>price</th>\n",
       "      <th>minimo_noites</th>\n",
       "      <th>numero_de_reviews</th>\n",
       "      <th>ultima_review</th>\n",
       "      <th>reviews_por_mes</th>\n",
       "      <th>calculado_host_listings_count</th>\n",
       "      <th>disponibilidade_365</th>\n",
       "    </tr>\n",
       "  </thead>\n",
       "  <tbody>\n",
       "    <tr>\n",
       "      <th>1</th>\n",
       "      <td>3647</td>\n",
       "      <td>THE VILLAGE OF HARLEM....NEW YORK !</td>\n",
       "      <td>4632</td>\n",
       "      <td>Elisabeth</td>\n",
       "      <td>Manhattan</td>\n",
       "      <td>Harlem</td>\n",
       "      <td>40.80902</td>\n",
       "      <td>-73.94190</td>\n",
       "      <td>Private room</td>\n",
       "      <td>150</td>\n",
       "      <td>3</td>\n",
       "      <td>0</td>\n",
       "      <td>1900-01-01</td>\n",
       "      <td>NaN</td>\n",
       "      <td>1</td>\n",
       "      <td>365</td>\n",
       "    </tr>\n",
       "    <tr>\n",
       "      <th>18</th>\n",
       "      <td>7750</td>\n",
       "      <td>Huge 2 BR Upper East  Cental Park</td>\n",
       "      <td>17985</td>\n",
       "      <td>Sing</td>\n",
       "      <td>Manhattan</td>\n",
       "      <td>East Harlem</td>\n",
       "      <td>40.79685</td>\n",
       "      <td>-73.94872</td>\n",
       "      <td>Entire home/apt</td>\n",
       "      <td>190</td>\n",
       "      <td>7</td>\n",
       "      <td>0</td>\n",
       "      <td>1900-01-01</td>\n",
       "      <td>NaN</td>\n",
       "      <td>2</td>\n",
       "      <td>249</td>\n",
       "    </tr>\n",
       "    <tr>\n",
       "      <th>25</th>\n",
       "      <td>8700</td>\n",
       "      <td>Magnifique Suite au N de Manhattan - vue Cloitres</td>\n",
       "      <td>26394</td>\n",
       "      <td>Claude &amp; Sophie</td>\n",
       "      <td>Manhattan</td>\n",
       "      <td>Inwood</td>\n",
       "      <td>40.86754</td>\n",
       "      <td>-73.92639</td>\n",
       "      <td>Private room</td>\n",
       "      <td>80</td>\n",
       "      <td>4</td>\n",
       "      <td>0</td>\n",
       "      <td>1900-01-01</td>\n",
       "      <td>NaN</td>\n",
       "      <td>1</td>\n",
       "      <td>0</td>\n",
       "    </tr>\n",
       "    <tr>\n",
       "      <th>35</th>\n",
       "      <td>11452</td>\n",
       "      <td>Clean and Quiet in Brooklyn</td>\n",
       "      <td>7355</td>\n",
       "      <td>Vt</td>\n",
       "      <td>Brooklyn</td>\n",
       "      <td>Bedford-Stuyvesant</td>\n",
       "      <td>40.68876</td>\n",
       "      <td>-73.94312</td>\n",
       "      <td>Private room</td>\n",
       "      <td>35</td>\n",
       "      <td>60</td>\n",
       "      <td>0</td>\n",
       "      <td>1900-01-01</td>\n",
       "      <td>NaN</td>\n",
       "      <td>1</td>\n",
       "      <td>365</td>\n",
       "    </tr>\n",
       "    <tr>\n",
       "      <th>37</th>\n",
       "      <td>11943</td>\n",
       "      <td>Country space in the city</td>\n",
       "      <td>45445</td>\n",
       "      <td>Harriet</td>\n",
       "      <td>Brooklyn</td>\n",
       "      <td>Flatbush</td>\n",
       "      <td>40.63702</td>\n",
       "      <td>-73.96327</td>\n",
       "      <td>Private room</td>\n",
       "      <td>150</td>\n",
       "      <td>1</td>\n",
       "      <td>0</td>\n",
       "      <td>1900-01-01</td>\n",
       "      <td>NaN</td>\n",
       "      <td>1</td>\n",
       "      <td>365</td>\n",
       "    </tr>\n",
       "  </tbody>\n",
       "</table>\n",
       "</div>"
      ],
      "text/plain": [
       "       id                                               nome  host_id  \\\n",
       "1    3647                THE VILLAGE OF HARLEM....NEW YORK !     4632   \n",
       "18   7750                  Huge 2 BR Upper East  Cental Park    17985   \n",
       "25   8700  Magnifique Suite au N de Manhattan - vue Cloitres    26394   \n",
       "35  11452                        Clean and Quiet in Brooklyn     7355   \n",
       "37  11943                          Country space in the city    45445   \n",
       "\n",
       "          host_name bairro_group              bairro  latitude  longitude  \\\n",
       "1         Elisabeth    Manhattan              Harlem  40.80902  -73.94190   \n",
       "18             Sing    Manhattan         East Harlem  40.79685  -73.94872   \n",
       "25  Claude & Sophie    Manhattan              Inwood  40.86754  -73.92639   \n",
       "35               Vt     Brooklyn  Bedford-Stuyvesant  40.68876  -73.94312   \n",
       "37          Harriet     Brooklyn            Flatbush  40.63702  -73.96327   \n",
       "\n",
       "          room_type  price  minimo_noites  numero_de_reviews ultima_review  \\\n",
       "1      Private room    150              3                  0    1900-01-01   \n",
       "18  Entire home/apt    190              7                  0    1900-01-01   \n",
       "25     Private room     80              4                  0    1900-01-01   \n",
       "35     Private room     35             60                  0    1900-01-01   \n",
       "37     Private room    150              1                  0    1900-01-01   \n",
       "\n",
       "    reviews_por_mes  calculado_host_listings_count  disponibilidade_365  \n",
       "1               NaN                              1                  365  \n",
       "18              NaN                              2                  249  \n",
       "25              NaN                              1                    0  \n",
       "35              NaN                              1                  365  \n",
       "37              NaN                              1                  365  "
      ]
     },
     "execution_count": 19,
     "metadata": {},
     "output_type": "execute_result"
    }
   ],
   "source": [
    "# Visualizando alguns dados ausentes\n",
    "df_2[df_2['reviews_por_mes'].isnull()].head()"
   ]
  },
  {
   "cell_type": "code",
   "execution_count": 20,
   "id": "b92e52b5",
   "metadata": {},
   "outputs": [
    {
     "data": {
      "text/plain": [
       "0"
      ]
     },
     "execution_count": 20,
     "metadata": {},
     "output_type": "execute_result"
    }
   ],
   "source": [
    "# Verificando a correspondência entre os valores ausentes em \"reviews_por_mes\" e os valores 0 em \"numero_de_reviews\"\n",
    "df_2[df_2['reviews_por_mes'].isnull()]['numero_de_reviews'].sum()"
   ]
  },
  {
   "cell_type": "code",
   "execution_count": 21,
   "id": "43a2fb63",
   "metadata": {},
   "outputs": [
    {
     "name": "stderr",
     "output_type": "stream",
     "text": [
      "C:\\Users\\win10\\AppData\\Local\\Temp\\ipykernel_4924\\1625928860.py:2: FutureWarning: A value is trying to be set on a copy of a DataFrame or Series through chained assignment using an inplace method.\n",
      "The behavior will change in pandas 3.0. This inplace method will never work because the intermediate object on which we are setting values always behaves as a copy.\n",
      "\n",
      "For example, when doing 'df[col].method(value, inplace=True)', try using 'df.method({col: value}, inplace=True)' or df[col] = df[col].method(value) instead, to perform the operation inplace on the original object.\n",
      "\n",
      "\n",
      "  df_2['reviews_por_mes'].fillna(0, inplace = True)\n",
      "C:\\Users\\win10\\AppData\\Local\\Temp\\ipykernel_4924\\1625928860.py:2: SettingWithCopyWarning: \n",
      "A value is trying to be set on a copy of a slice from a DataFrame\n",
      "\n",
      "See the caveats in the documentation: https://pandas.pydata.org/pandas-docs/stable/user_guide/indexing.html#returning-a-view-versus-a-copy\n",
      "  df_2['reviews_por_mes'].fillna(0, inplace = True)\n"
     ]
    }
   ],
   "source": [
    "# Preenchendo os valores ausentes da variável \"reviews_por_mes\" por '0'\n",
    "df_2['reviews_por_mes'].fillna(0, inplace = True)"
   ]
  },
  {
   "cell_type": "markdown",
   "id": "e9332a19",
   "metadata": {},
   "source": [
    "### Validação do trabalho feito sobre os valores ausentes de todo o dataset:\n"
   ]
  },
  {
   "cell_type": "code",
   "execution_count": 22,
   "id": "b3e89c70",
   "metadata": {},
   "outputs": [
    {
     "data": {
      "text/plain": [
       "id                               0\n",
       "nome                             0\n",
       "host_id                          0\n",
       "host_name                        0\n",
       "bairro_group                     0\n",
       "bairro                           0\n",
       "latitude                         0\n",
       "longitude                        0\n",
       "room_type                        0\n",
       "price                            0\n",
       "minimo_noites                    0\n",
       "numero_de_reviews                0\n",
       "ultima_review                    0\n",
       "reviews_por_mes                  0\n",
       "calculado_host_listings_count    0\n",
       "disponibilidade_365              0\n",
       "dtype: int64"
      ]
     },
     "execution_count": 22,
     "metadata": {},
     "output_type": "execute_result"
    }
   ],
   "source": [
    "# Conferindo a existência de algum valor ausente nas variáveis do modelo\n",
    "df_2.isnull().sum()"
   ]
  },
  {
   "cell_type": "markdown",
   "id": "0dbe5b88",
   "metadata": {},
   "source": [
    "### Análise de Correlação entre as variáveis numéricas"
   ]
  },
  {
   "cell_type": "code",
   "execution_count": 23,
   "id": "69d2f6a5",
   "metadata": {
    "scrolled": true
   },
   "outputs": [
    {
     "data": {
      "image/png": "[encoded data removed]",
      "text/plain": [
       "<Figure size 500x400 with 2 Axes>"
      ]
     },
     "metadata": {},
     "output_type": "display_data"
    }
   ],
   "source": [
    "# Selecionando apenas as variáveis numéricas do dataset\n",
    "vars_numericas = df_2.select_dtypes(include = ['int64', 'float64'])\n",
    "\n",
    "# Criando a Matriz de Correlação entre as variáveis numéricas\n",
    "matriz_corr = vars_numericas.corr()\n",
    "\n",
    "# Construindo e plotando o Mapa de Calor de Correlações\n",
    "plt.figure(figsize = (5,4))\n",
    "sns.heatmap(matriz_corr, annot = True, fmt = '.2f', cmap = 'coolwarm', square = True, linewidths = 0.5, annot_kws = {\"size\": 7})\n",
    "plt.title('Mapa de Calor da Correlação entre as Variáveis Numéricas')\n",
    "plt.show()"
   ]
  },
  {
   "cell_type": "markdown",
   "id": "951ce337",
   "metadata": {},
   "source": [
    "## Insights:\n",
    "\n",
    "#### Correlações entre as variáveis numéricas:\n",
    "###### Correlação: variável target \"log_price\" x demais variáveis:\n",
    "    Conforme se vê no mapa, as correlações são muita fracas (menor que 0.40) o que implica dizer que não se pode obter nenhuma conclusão de tendência de conexão entre o preço dos imóveis e as outras variáveis.\n",
    "\n",
    "###### Correlação: entre as demais variáveis:\n",
    "    Ainda observando o mapa, nota-se uma correlação de 0.59 (de moderada a forte) entre as variáveis \"numero_de_reviews\" e \"reviews_por_mes\", o que a princípio faz sentido visto que conforme se tem mais avaliações acumuladas aplicadas em um dado anúncio, maior tende a ser a média mensal deste anúncio.\n",
    "\n",
    "\n",
    "## Ação:\n",
    "Embora tenha sido constatado, em geral, correlações fracas entre as variáveis numéricas, isso não as desconsidera no modelo, além de ter sido verificado também a ausência de multicolinearidade entre elas. Desse modo, está sendo decidido por manter todas essas variáveis no dataset para fins de continuidade no desenvolvimento do modelo.\n"
   ]
  },
  {
   "cell_type": "markdown",
   "id": "508aea0b",
   "metadata": {},
   "source": [
    "# Etapa 4: Engenharia de Atributos\n",
    "\n",
    "   - Criar ou transformar variáveis;\n",
    "   - Tratar as variáveis categóricas (codificação)."
   ]
  },
  {
   "cell_type": "markdown",
   "id": "5b9bbd32",
   "metadata": {},
   "source": [
    "### Transformação de Variáveis:\n",
    "\n",
    "A fim de melhorar a capacidade de aprendizado de padrões pelo modelo e, consequentemente, agregar valor ao mesmo de modo a conseguir extrair mais insights para o negócio, a seguinte variável está sendo criada a partir de variáveis orginais do dataset:\n",
    "\n",
    "##### * densidade_reviews = reviews_por_mes / (disponibilidade_365  +  1);\n",
    "    \n",
    "    A variável \"densidade_reviews\" está sendo criada para medir a popularidade relativa do imóvel, calculada pela razão entre número de avaliações por mês (demanda) e a disponibiliade anual (oferta), sendo uma potencial variável preditora para o modelo de previsão. Nessa variável, alores altos indicam alta demanda por noite disponível, sugerindo maior atratividade e potencial para preços mais elevados, enquanto valores baixos refletem baixa eficiência de ocupação, associados a preços mais competitivos. "
   ]
  },
  {
   "cell_type": "code",
   "execution_count": 24,
   "id": "89870c5d",
   "metadata": {},
   "outputs": [
    {
     "name": "stderr",
     "output_type": "stream",
     "text": [
      "C:\\Users\\win10\\AppData\\Local\\Temp\\ipykernel_4924\\3003635670.py:2: SettingWithCopyWarning: \n",
      "A value is trying to be set on a copy of a slice from a DataFrame.\n",
      "Try using .loc[row_indexer,col_indexer] = value instead\n",
      "\n",
      "See the caveats in the documentation: https://pandas.pydata.org/pandas-docs/stable/user_guide/indexing.html#returning-a-view-versus-a-copy\n",
      "  df_2['densidade_reviews'] = df_2['reviews_por_mes'] / (df_2['disponibilidade_365'] + 1)\n"
     ]
    }
   ],
   "source": [
    "# Criando a nova variável: \"densidade_reviews\"\n",
    "df_2['densidade_reviews'] = df_2['reviews_por_mes'] / (df_2['disponibilidade_365'] + 1)"
   ]
  },
  {
   "cell_type": "code",
   "execution_count": 25,
   "id": "6864e308",
   "metadata": {},
   "outputs": [
    {
     "name": "stdout",
     "output_type": "stream",
     "text": [
      "<class 'pandas.core.frame.DataFrame'>\n",
      "Index: 48409 entries, 0 to 48893\n",
      "Data columns (total 17 columns):\n",
      " #   Column                         Non-Null Count  Dtype  \n",
      "---  ------                         --------------  -----  \n",
      " 0   id                             48409 non-null  int64  \n",
      " 1   nome                           48409 non-null  object \n",
      " 2   host_id                        48409 non-null  int64  \n",
      " 3   host_name                      48409 non-null  object \n",
      " 4   bairro_group                   48409 non-null  object \n",
      " 5   bairro                         48409 non-null  object \n",
      " 6   latitude                       48409 non-null  float64\n",
      " 7   longitude                      48409 non-null  float64\n",
      " 8   room_type                      48409 non-null  object \n",
      " 9   price                          48409 non-null  int64  \n",
      " 10  minimo_noites                  48409 non-null  int64  \n",
      " 11  numero_de_reviews              48409 non-null  int64  \n",
      " 12  ultima_review                  48409 non-null  object \n",
      " 13  reviews_por_mes                48409 non-null  float64\n",
      " 14  calculado_host_listings_count  48409 non-null  int64  \n",
      " 15  disponibilidade_365            48409 non-null  int64  \n",
      " 16  densidade_reviews              48409 non-null  float64\n",
      "dtypes: float64(4), int64(7), object(6)\n",
      "memory usage: 6.6+ MB\n"
     ]
    }
   ],
   "source": [
    "df_2.info()"
   ]
  },
  {
   "cell_type": "markdown",
   "id": "07355c82",
   "metadata": {},
   "source": [
    "### Codificação das Variáveis Não Numéricas:\n",
    "\n",
    "Afim de levar dados apenas numéricos para o modelo matemático, as variáveis categóricas \"bairro_group\", \"bairro\" e \"room_type\" serão codificadas em números conforme seus diferentes valores/dados categóricos e, posteriormente, será aplicada a técnica de 'One Hot-Enconding'."
   ]
  },
  {
   "cell_type": "code",
   "execution_count": 26,
   "id": "b482787d",
   "metadata": {},
   "outputs": [],
   "source": [
    "# Contando a frequência de valores categóricos das variáveis categóricas \"bairro_group\", \"bairro\" e \"room_type\"\n",
    "contagem_bairro_group = df_2['bairro_group'].value_counts()\n",
    "contagem_bairro = df_2['bairro'].value_counts()\n",
    "contagem_room_type = df_2['room_type'].value_counts()"
   ]
  },
  {
   "cell_type": "code",
   "execution_count": 27,
   "id": "38f6155e",
   "metadata": {},
   "outputs": [
    {
     "data": {
      "text/plain": [
       "5"
      ]
     },
     "execution_count": 27,
     "metadata": {},
     "output_type": "execute_result"
    }
   ],
   "source": [
    "# Obtendo a quantidade de valores categóricos da variável \"bairro_group\"\n",
    "contagem_bairro_group.nunique()"
   ]
  },
  {
   "cell_type": "code",
   "execution_count": 28,
   "id": "37a87e9f",
   "metadata": {},
   "outputs": [
    {
     "data": {
      "text/plain": [
       "124"
      ]
     },
     "execution_count": 28,
     "metadata": {},
     "output_type": "execute_result"
    }
   ],
   "source": [
    "# Obtendo a quantidade de valores categóricos da variável \"bairro\"\n",
    "contagem_bairro.nunique()"
   ]
  },
  {
   "cell_type": "code",
   "execution_count": 29,
   "id": "70e10c08",
   "metadata": {},
   "outputs": [
    {
     "data": {
      "text/plain": [
       "3"
      ]
     },
     "execution_count": 29,
     "metadata": {},
     "output_type": "execute_result"
    }
   ],
   "source": [
    "# Obtendo a quantidade de valores categóricos da variável \"room_type\"\n",
    "contagem_room_type.nunique()"
   ]
  },
  {
   "cell_type": "markdown",
   "id": "fd75853e",
   "metadata": {},
   "source": [
    "#### Observando acima, nota-se que a quantidade de valores categóricos da variável \"bairro\" é muito alto, sendo inviável aplicar 'One Hot-Enconding' para a mesma. Logo será aplicado tal técnica de codificação apenas para as variáveis \"bairro_group\" e \"room_type\"."
   ]
  },
  {
   "cell_type": "code",
   "execution_count": 30,
   "id": "baa1be86",
   "metadata": {},
   "outputs": [],
   "source": [
    "# Codificando as variáveis categóricas \"bairro_group\" e \"room_type\"\n",
    "df_3 = pd.get_dummies(df_2, columns = ['bairro_group', 'room_type'], drop_first = True)"
   ]
  },
  {
   "cell_type": "code",
   "execution_count": 31,
   "id": "b7132db3",
   "metadata": {},
   "outputs": [
    {
     "name": "stdout",
     "output_type": "stream",
     "text": [
      "<class 'pandas.core.frame.DataFrame'>\n",
      "Index: 48409 entries, 0 to 48893\n",
      "Data columns (total 21 columns):\n",
      " #   Column                         Non-Null Count  Dtype  \n",
      "---  ------                         --------------  -----  \n",
      " 0   id                             48409 non-null  int64  \n",
      " 1   nome                           48409 non-null  object \n",
      " 2   host_id                        48409 non-null  int64  \n",
      " 3   host_name                      48409 non-null  object \n",
      " 4   bairro                         48409 non-null  object \n",
      " 5   latitude                       48409 non-null  float64\n",
      " 6   longitude                      48409 non-null  float64\n",
      " 7   price                          48409 non-null  int64  \n",
      " 8   minimo_noites                  48409 non-null  int64  \n",
      " 9   numero_de_reviews              48409 non-null  int64  \n",
      " 10  ultima_review                  48409 non-null  object \n",
      " 11  reviews_por_mes                48409 non-null  float64\n",
      " 12  calculado_host_listings_count  48409 non-null  int64  \n",
      " 13  disponibilidade_365            48409 non-null  int64  \n",
      " 14  densidade_reviews              48409 non-null  float64\n",
      " 15  bairro_group_Brooklyn          48409 non-null  bool   \n",
      " 16  bairro_group_Manhattan         48409 non-null  bool   \n",
      " 17  bairro_group_Queens            48409 non-null  bool   \n",
      " 18  bairro_group_Staten Island     48409 non-null  bool   \n",
      " 19  room_type_Private room         48409 non-null  bool   \n",
      " 20  room_type_Shared room          48409 non-null  bool   \n",
      "dtypes: bool(6), float64(4), int64(7), object(4)\n",
      "memory usage: 6.2+ MB\n"
     ]
    }
   ],
   "source": [
    "df_3.info()"
   ]
  },
  {
   "cell_type": "markdown",
   "id": "9ad40076",
   "metadata": {},
   "source": [
    "# Etapa 5: Modelagem Preditiva\n",
    "\n",
    "   - Estruturação inicial do modelo (definição das variáveis preditoras e variável target, e separação dos dados em treino e teste);\n",
    "   - Treinamento de 6 modelos referentes aos seguintes algoritmos:\n",
    "        - Regressão Linear;\n",
    "        - Regressão Ridge;\n",
    "        - Regressão Lasso;\n",
    "        - Random Forest Regressor;\n",
    "        - Gradient Boosting Regressor;\n",
    "        - Stacking Regressor."
   ]
  },
  {
   "cell_type": "code",
   "execution_count": 32,
   "id": "1cbed6be",
   "metadata": {},
   "outputs": [],
   "source": [
    "# Definindo as variáveis preditoras para o modelo\n",
    "vars_preditoras = ['latitude', 'longitude', 'minimo_noites', 'numero_de_reviews', \n",
    "            'reviews_por_mes', 'calculado_host_listings_count', 'disponibilidade_365', \n",
    "            'densidade_reviews'] + [col for col in df_3.columns if 'bairro_group_' in col or 'room_type_' in col]\n",
    "\n",
    "X = df_3[vars_preditoras]\n",
    "y = df_3['price']\n",
    "\n",
    "\n",
    "# Divindindo os dados em: (1) Dados de Treino; (2) Dados de Teste\n",
    "X_treino, X_teste, y_treino, y_teste = train_test_split(X, y, test_size=0.2, random_state=42)\n",
    "\n",
    "# Criando uma função para avaliar o desempenho dos modelos\n",
    "def avaliar_modelo(modelo, X_teste, y_teste):\n",
    "    previsao = modelo.predict(X_teste)\n",
    "    mae = mean_absolute_error(y_teste, previsao)  # Calculando o 'Erro Absoluto Médio'\n",
    "    rmse = np.sqrt(mean_squared_error(y_teste, previsao))  # Calculando a 'Raiz do Erro Quadrático Médio'\n",
    "    r2 = r2_score(y_teste, previsao)  # Calculando o 'Coeficiente de determinação (R²)'\n",
    "    return mae, rmse, r2\n",
    "\n",
    "# criando uma lista para armazenar os resultados dos modelos\n",
    "resultados = []"
   ]
  },
  {
   "cell_type": "markdown",
   "id": "12adc6fd",
   "metadata": {},
   "source": [
    "### Modelo 1: Regressão Linear"
   ]
  },
  {
   "cell_type": "code",
   "execution_count": 33,
   "id": "7a48d77a",
   "metadata": {},
   "outputs": [],
   "source": [
    "# Criando o modelo de Regressão Linear\n",
    "reg_linear = LinearRegression()\n",
    "reg_linear.fit(X_treino, y_treino)  # Treinando o modelo com os \"dados de treino\"\n",
    "\n",
    "# Avaliando o modelo com os \"dados de teste\"\n",
    "mae_rl, rmse_rl, r2_rl = avaliar_modelo(reg_linear, X_teste, y_teste)\n",
    "\n",
    "# Armazenando os resultados do modelo\n",
    "resultados.append({'Modelo': 'Regressão Linear', 'MAE': mae_rl, 'RMSE': rmse_rl, 'R²': r2_rl})\n"
   ]
  },
  {
   "cell_type": "markdown",
   "id": "7775133d",
   "metadata": {},
   "source": [
    "### Modelo 2: Regressão Ridge"
   ]
  },
  {
   "cell_type": "code",
   "execution_count": 34,
   "id": "8dd9b265",
   "metadata": {},
   "outputs": [],
   "source": [
    "# Criando o modelo de Regressão Ridge\n",
    "reg_ridge = Ridge()\n",
    "parametros_ridge = {'alpha': [0.01, 0.1, 1, 10, 100]}  # Definindo o grid de hiperparâmetros\n",
    "\n",
    "# Aplicando 'validação cruzada' para encontrar o melhor hiperparâmetro alpha\n",
    "busca_ridge = GridSearchCV(reg_ridge, parametros_ridge, cv=5, scoring='r2', n_jobs=-1)\n",
    "busca_ridge.fit(X_treino, y_treino)  # Treinando o modelo com 'validação cruzada'\n",
    "\n",
    "# Avaliando o melhor modelo encontrado\n",
    "mae_ridge, rmse_ridge, r2_ridge = avaliar_modelo(busca_ridge.best_estimator_, X_teste, y_teste)\n",
    "\n",
    "# Armazenando os resultados\n",
    "resultados.append({'Modelo': 'Regressão Ridge', 'MAE': mae_ridge, 'RMSE': rmse_ridge, 'R²': r2_ridge})"
   ]
  },
  {
   "cell_type": "markdown",
   "id": "b94fa75b",
   "metadata": {},
   "source": [
    "### Modelo 3: Regressão Lasso"
   ]
  },
  {
   "cell_type": "code",
   "execution_count": 35,
   "id": "169f224e",
   "metadata": {},
   "outputs": [],
   "source": [
    "# Criando o modelo de Regressão Lasso\n",
    "reg_lasso = Lasso()\n",
    "parametros_lasso = {'alpha': [0.01, 0.1, 1, 10, 100]}  # Definindo o grid de hiperparâmetros\n",
    "\n",
    "# aplicando 'validação cruzada' para encontrar o melhor valor de alpha\n",
    "busca_lasso = GridSearchCV(reg_lasso, parametros_lasso, cv=5, scoring='r2', n_jobs=-1)\n",
    "busca_lasso.fit(X_treino, y_treino)  # Treinando o modelo com 'validação cruzada'\n",
    "\n",
    "# Avaliando o melhor modelo encontrado\n",
    "mae_lasso, rmse_lasso, r2_lasso = avaliar_modelo(busca_lasso.best_estimator_, X_teste, y_teste)\n",
    "\n",
    "# Armazenando os resultados\n",
    "resultados.append({'Modelo': 'Regressão Lasso', 'MAE': mae_lasso, 'RMSE': rmse_lasso, 'R²': r2_lasso})"
   ]
  },
  {
   "cell_type": "markdown",
   "id": "5483cf93",
   "metadata": {},
   "source": [
    "### Modelo 4: Random Forest Regressor"
   ]
  },
  {
   "cell_type": "code",
   "execution_count": 36,
   "id": "e3f8fcc5",
   "metadata": {},
   "outputs": [],
   "source": [
    "# Criando o modelo de Random Forest Regressor\n",
    "rf_regressor = RandomForestRegressor(random_state=42)\n",
    "\n",
    "# Definindo os valores dos hiperparâmetros para a 'busca aleatória' (número de árvores, profundidade e divisões mínimas)\n",
    "parametros_rf_regressor = {'n_estimators': [50, 100], 'max_depth': [5, 10], 'min_samples_split': [2, 5]}\n",
    "\n",
    "# Realizando a 'busca aleatória' e o treinamento do modelo\n",
    "busca_aleatoria_rf_regressor = RandomizedSearchCV(rf_regressor, parametros_rf_regressor, n_iter=4, \n",
    "                                        cv=3, scoring='r2', n_jobs=-1, random_state=42)\n",
    "busca_aleatoria_rf_regressor.fit(X_treino, y_treino)\n",
    "\n",
    "# Avaliando o modelo e armazenando os resultados\n",
    "mae_rf_regressor, rmse_rf_regressor, r2_rf_regressor = avaliar_modelo(busca_aleatoria_rf_regressor.best_estimator_, X_teste, y_teste)\n",
    "resultados.append({'Modelo': 'Random Forest Regressor', 'MAE': mae_rf_regressor, 'RMSE': rmse_rf_regressor, 'R²': r2_rf_regressor})"
   ]
  },
  {
   "cell_type": "markdown",
   "id": "baf26e3c",
   "metadata": {},
   "source": [
    "### Modelo 5: Gradient Boosting Regressor"
   ]
  },
  {
   "cell_type": "code",
   "execution_count": 37,
   "id": "66cb8e1e",
   "metadata": {},
   "outputs": [],
   "source": [
    "# Criando o modelo de Gradient Boosting Regressor\n",
    "gb_regressor = GradientBoostingRegressor(random_state=42)\n",
    "\n",
    "# Definindo os valores dos hiperparâmetros para a 'busca aleatória' (número de árvores, taxa de aprendizado e profundidade)\n",
    "parametros_gb_regressor = {'n_estimators': [50, 100], 'learning_rate': [0.1], 'max_depth': [3, 5]}\n",
    "\n",
    "# Realizando a 'busca aleatória' e o treinamento do modelo\n",
    "busca_aleatoria_gb_regressor = RandomizedSearchCV(gb_regressor, parametros_gb_regressor, n_iter=4, \n",
    "                                        cv=3, scoring='r2', n_jobs=-1, random_state=42)\n",
    "busca_aleatoria_gb_regressor.fit(X_treino, y_treino)\n",
    "\n",
    "# Avaliando o modelo e armazenando os resultados\n",
    "mae_gb_regressor, rmse_gb_regressor, r2_gb_regressor = avaliar_modelo(busca_aleatoria_gb_regressor.best_estimator_, X_teste, y_teste)\n",
    "resultados.append({'Modelo': 'Gradient Boosting Regressor', 'MAE': mae_gb_regressor, 'RMSE': rmse_gb_regressor, 'R²': r2_gb_regressor})\n"
   ]
  },
  {
   "cell_type": "markdown",
   "id": "4f708c7c",
   "metadata": {},
   "source": [
    "### Modelo 6: Stacking Regressor"
   ]
  },
  {
   "cell_type": "code",
   "execution_count": 38,
   "id": "b7b05fe5",
   "metadata": {},
   "outputs": [],
   "source": [
    "# Definindo os estimadores base (Regressão Ridge, Regressão Lasso, Random Forest Regressor e Gradient Boosting Regressor)\n",
    "estimadores = [\n",
    "    ('ridge', busca_ridge.best_estimator_),\n",
    "    ('lasso', busca_lasso.best_estimator_),\n",
    "    ('rf_regressor', busca_aleatoria_rf_regressor.best_estimator_),\n",
    "    ('gb_regressor', busca_aleatoria_gb_regressor.best_estimator_) \n",
    "]\n",
    "\n",
    "# Criando o modelo de Stacking Regressor\n",
    "stacking_regressor = StackingRegressor(estimators=estimadores, final_estimator=LinearRegression(), n_jobs=-1)\n",
    "\n",
    "# Treinando o modelo\n",
    "stacking_regressor.fit(X_treino, y_treino)\n",
    "\n",
    "# Avaliando o modelo e armazenando os resultados\n",
    "mae_stack_regressor, rmse_stack_regressor, r2_stack_regressor = avaliar_modelo(stacking_regressor, X_teste, y_teste)\n",
    "resultados.append({'Modelo': 'Stacking Regressor', 'MAE': mae_stack_regressor, 'RMSE': rmse_stack_regressor, 'R²': r2_stack_regressor})\n"
   ]
  },
  {
   "cell_type": "markdown",
   "id": "a9323204",
   "metadata": {},
   "source": [
    "# Etapa 6: Avaliação dos Modelos\n",
    "O melhor modelo será aquele com o maior R², visto que essa medida de performance reflete na capacidade de o modelo explicar a variabilidade dos dados. Em suma, quanto mais próximo do valor 1, melhor é o desempenho do modelo"
   ]
  },
  {
   "cell_type": "code",
   "execution_count": 39,
   "id": "5de38be2",
   "metadata": {},
   "outputs": [
    {
     "name": "stdout",
     "output_type": "stream",
     "text": [
      "                        Modelo        MAE       RMSE        R²\n",
      "0             Regressão Linear  52.526818  83.890753  0.363787\n",
      "1              Regressão Ridge  52.525819  83.891429  0.363777\n",
      "2              Regressão Lasso  52.511207  83.902224  0.363613\n",
      "3      Random Forest Regressor  44.951724  74.976198  0.491816\n",
      "4  Gradient Boosting Regressor  45.182206  75.014611  0.491295\n",
      "5           Stacking Regressor  44.760081  74.533805  0.497795\n",
      "\n",
      "==== Melhor modelo: Stacking Regressor ====\n"
     ]
    }
   ],
   "source": [
    "# Criando o dataframe com os resultados dos modelos\n",
    "resultados_df = pd.DataFrame(resultados)\n",
    "print(resultados_df)\n",
    "\n",
    "# Identificando o melhor modelo com base no maior R²\n",
    "melhor_modelo = max(resultados, key=lambda x: x['R²'])['Modelo']\n",
    "\n",
    "# Seleciando o modelo final com base no melhor desempenho\n",
    "if melhor_modelo == 'Regressão Linear':\n",
    "    modelo_final = reg_linear\n",
    "elif melhor_modelo == 'Regressão Ridge':\n",
    "    modelo_final = busca_ridge.best_estimator_\n",
    "elif melhor_modelo == 'Regressão Lasso':\n",
    "    modelo_final = busca_lasso.best_estimator_\n",
    "elif melhor_modelo == 'Random Forest Regressor':\n",
    "    modelo_final = busca_aleatoria_rf_regressor.best_estimator_\n",
    "elif melhor_modelo == 'Gradient Boosting Regressor':\n",
    "    modelo_final = busca_aleatoria_gb_regressor.best_estimator_\n",
    "else:\n",
    "    modelo_final = stacking_regressor\n",
    "\n",
    "# Salvando o modelo final em formato .pkl\n",
    "import pickle\n",
    "with open('melhor_modelo.pkl', 'wb') as arquivo:\n",
    "    pickle.dump(modelo_final, arquivo)\n",
    "    \n",
    "print(f'\\n==== Melhor modelo: {melhor_modelo} ====')\n"
   ]
  },
  {
   "cell_type": "markdown",
   "id": "66fe1fd9",
   "metadata": {},
   "source": [
    "# ENTREGAS"
   ]
  },
  {
   "cell_type": "code",
   "execution_count": null,
   "id": "373c7007",
   "metadata": {},
   "outputs": [],
   "source": []
  }
 ],
 "metadata": {
  "kernelspec": {
   "display_name": "Python 3 (ipykernel)",
   "language": "python",
   "name": "python3"
  },
  "language_info": {
   "codemirror_mode": {
    "name": "ipython",
    "version": 3
   },
   "file_extension": ".py",
   "mimetype": "text/x-python",
   "name": "python",
   "nbconvert_exporter": "python",
   "pygments_lexer": "ipython3",
   "version": "3.10.9"
  }
 },
 "nbformat": 4,
 "nbformat_minor": 5
}
